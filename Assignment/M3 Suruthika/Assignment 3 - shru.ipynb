{
  "cells": [
    {
      "cell_type": "markdown",
      "source": [
        "#Assignment 3\n",
        "###Flowers classification using CNN"
      ],
      "metadata": {
        "id": "FC-R5YE8oqVt"
      }
    },
    {
      "cell_type": "markdown",
      "source": [
        "###1.Dataset:https://drive.google.com/drive/folders/1WIT80rlcGoY31rMQ9z2t9RNQPdTpJDxe"
      ],
      "metadata": {
        "id": "RJbooD5Wo42y"
      }
    },
    {
      "cell_type": "code",
      "execution_count": null,
      "metadata": {
        "id": "0uoedwEqKsPH"
      },
      "outputs": [],
      "source": [
        "import cv2\n",
        "import matplotlib.pyplot as plt\n",
        "import seaborn as sns\n",
        "%matplotlib inline"
      ]
    },
    {
      "cell_type": "markdown",
      "source": [
        "#2.Image Augmentation"
      ],
      "metadata": {
        "id": "7Uu7WYZDpGZV"
      }
    },
    {
      "cell_type": "code",
      "execution_count": null,
      "metadata": {
        "id": "lXoMQQi7K-w-"
      },
      "outputs": [],
      "source": [
        "from tensorflow.keras.preprocessing.image import ImageDataGenerator"
      ]
    },
    {
      "cell_type": "code",
      "execution_count": null,
      "metadata": {
        "id": "Wezr_yOXLbJ9"
      },
      "outputs": [],
      "source": [
        "datagen = ImageDataGenerator(rescale = 1.0/225, zoom_range = 0.2, horizontal_flip = True, vertical_flip = False, validation_split = 0.25)"
      ]
    },
    {
      "cell_type": "code",
      "execution_count": null,
      "metadata": {
        "colab": {
          "base_uri": "https://localhost:8080/"
        },
        "id": "KKEk6rsSLfIV",
        "outputId": "e6e38cd9-0b4b-4caa-911e-55cbe6efa6b6"
      },
      "outputs": [
        {
          "name": "stdout",
          "output_type": "stream",
          "text": [
            "Found 3238 images belonging to 5 classes.\n"
          ]
        }
      ],
      "source": [
        "x_train = datagen.flow_from_directory('/content/drive/MyDrive/Flowers/flowers',target_size=(100,100),class_mode='categorical',subset='training')"
      ]
    },
    {
      "cell_type": "code",
      "execution_count": null,
      "metadata": {
        "colab": {
          "base_uri": "https://localhost:8080/"
        },
        "id": "dFyiYNiDLjrk",
        "outputId": "b2545b06-4518-40e2-e2c0-d165dbcc3740"
      },
      "outputs": [
        {
          "name": "stdout",
          "output_type": "stream",
          "text": [
            "Found 1079 images belonging to 5 classes.\n"
          ]
        }
      ],
      "source": [
        "x_test = datagen.flow_from_directory('/content/drive/MyDrive/Flowers/flowers',target_size=(100,100),class_mode='categorical',subset='validation')"
      ]
    },
    {
      "cell_type": "code",
      "execution_count": null,
      "metadata": {
        "colab": {
          "base_uri": "https://localhost:8080/"
        },
        "id": "rl_sEgkuLwLc",
        "outputId": "f6e2521d-6d6b-478b-fdd0-c9ee5105fed9"
      },
      "outputs": [
        {
          "data": {
            "text/plain": [
              "{'daisy': 0, 'dandelion': 1, 'rose': 2, 'sunflower': 3, 'tulip': 4}"
            ]
          },
          "execution_count": 12,
          "metadata": {},
          "output_type": "execute_result"
        }
      ],
      "source": [
        "x_train.class_indices"
      ]
    },
    {
      "cell_type": "code",
      "execution_count": null,
      "metadata": {
        "colab": {
          "base_uri": "https://localhost:8080/"
        },
        "id": "XbCPjhUmL1Uz",
        "outputId": "b6beb755-2fde-4dd2-97f0-bf154450967f"
      },
      "outputs": [
        {
          "data": {
            "text/plain": [
              "{'daisy': 0, 'dandelion': 1, 'rose': 2, 'sunflower': 3, 'tulip': 4}"
            ]
          },
          "execution_count": 13,
          "metadata": {},
          "output_type": "execute_result"
        }
      ],
      "source": [
        "x_test.class_indices"
      ]
    },
    {
      "cell_type": "markdown",
      "source": [
        "#3.Model creation"
      ],
      "metadata": {
        "id": "Pwrm1WWkp3-f"
      }
    },
    {
      "cell_type": "code",
      "execution_count": null,
      "metadata": {
        "id": "dAcIfWV-L5CW"
      },
      "outputs": [],
      "source": [
        "from tensorflow.keras.models import Sequential\n",
        "from tensorflow.keras.layers import Dense,Convolution2D,MaxPooling2D,Flatten"
      ]
    },
    {
      "cell_type": "code",
      "execution_count": null,
      "metadata": {
        "id": "JzuFCr47Md9R"
      },
      "outputs": [],
      "source": [
        "model = Sequential()"
      ]
    },
    {
      "cell_type": "markdown",
      "source": [
        "#4.Adding layers"
      ],
      "metadata": {
        "id": "qrwOrCEvp-0F"
      }
    },
    {
      "cell_type": "code",
      "execution_count": null,
      "metadata": {
        "id": "WED9W21QMgOi"
      },
      "outputs": [],
      "source": [
        "model.add(Convolution2D(32,(3,3),input_shape=(100,100,3),activation='relu'))"
      ]
    },
    {
      "cell_type": "code",
      "execution_count": null,
      "metadata": {
        "id": "uE8OBPNkMizL"
      },
      "outputs": [],
      "source": [
        "\n",
        "model.add(MaxPooling2D(pool_size=(2,2)))"
      ]
    },
    {
      "cell_type": "code",
      "execution_count": null,
      "metadata": {
        "id": "eqlibgXNMmRj"
      },
      "outputs": [],
      "source": [
        "model.add(Flatten())"
      ]
    },
    {
      "cell_type": "code",
      "execution_count": null,
      "metadata": {
        "id": "Xk_1BovGMoGl"
      },
      "outputs": [],
      "source": [
        "model.add(Dense(300,activation='relu'))\n",
        "model.add(Dense(150,activation='relu'))"
      ]
    },
    {
      "cell_type": "code",
      "execution_count": null,
      "metadata": {
        "id": "CqDBYdxdMq2f"
      },
      "outputs": [],
      "source": [
        "model.add(Dense(5,activation='softmax'))"
      ]
    },
    {
      "cell_type": "markdown",
      "source": [
        "#5.Compiling the model"
      ],
      "metadata": {
        "id": "FXN7tdVaqGdG"
      }
    },
    {
      "cell_type": "code",
      "execution_count": null,
      "metadata": {
        "id": "Gc7ORCGvMtnq"
      },
      "outputs": [],
      "source": [
        "model.compile(loss='categorical_crossentropy',optimizer='adam',metrics=['accuracy'])"
      ]
    },
    {
      "cell_type": "markdown",
      "source": [
        "#6.Fitting the model"
      ],
      "metadata": {
        "id": "ofTI7NmnqMGN"
      }
    },
    {
      "cell_type": "code",
      "execution_count": null,
      "metadata": {
        "colab": {
          "background_save": true,
          "base_uri": "https://localhost:8080/"
        },
        "id": "sXGGEdYpMwW6",
        "outputId": "b500dc17-66b3-4de0-b4d8-bc84a3db29c5"
      },
      "outputs": [
        {
          "name": "stderr",
          "output_type": "stream",
          "text": [
            "/usr/local/lib/python3.7/dist-packages/ipykernel_launcher.py:1: UserWarning: `Model.fit_generator` is deprecated and will be removed in a future version. Please use `Model.fit`, which supports generators.\n",
            "  \"\"\"Entry point for launching an IPython kernel.\n"
          ]
        },
        {
          "name": "stdout",
          "output_type": "stream",
          "text": [
            "Epoch 1/15\n",
            "102/102 [==============================] - 1408s 14s/step - loss: 1.6780 - accuracy: 0.4321 - val_loss: 1.2167 - val_accuracy: 0.4903\n",
            "Epoch 2/15\n",
            "102/102 [==============================] - 58s 568ms/step - loss: 1.0623 - accuracy: 0.5738 - val_loss: 1.2224 - val_accuracy: 0.5209\n",
            "Epoch 3/15\n",
            "102/102 [==============================] - 58s 568ms/step - loss: 1.0080 - accuracy: 0.6056 - val_loss: 1.0149 - val_accuracy: 0.5885\n",
            "Epoch 4/15\n",
            "102/102 [==============================] - 58s 566ms/step - loss: 0.9191 - accuracy: 0.6418 - val_loss: 1.0292 - val_accuracy: 0.6006\n",
            "Epoch 5/15\n",
            "102/102 [==============================] - 61s 599ms/step - loss: 0.8499 - accuracy: 0.6776 - val_loss: 1.0521 - val_accuracy: 0.5922\n",
            "Epoch 6/15\n",
            "102/102 [==============================] - 58s 567ms/step - loss: 0.8051 - accuracy: 0.6912 - val_loss: 0.9866 - val_accuracy: 0.6108\n",
            "Epoch 7/15\n",
            "102/102 [==============================] - 58s 564ms/step - loss: 0.7496 - accuracy: 0.7196 - val_loss: 0.9648 - val_accuracy: 0.6441\n",
            "Epoch 8/15\n",
            "102/102 [==============================] - 58s 567ms/step - loss: 0.7260 - accuracy: 0.7298 - val_loss: 1.0136 - val_accuracy: 0.6219\n",
            "Epoch 9/15\n",
            "102/102 [==============================] - 61s 596ms/step - loss: 0.6826 - accuracy: 0.7384 - val_loss: 1.0643 - val_accuracy: 0.6043\n",
            "Epoch 10/15\n",
            "102/102 [==============================] - 58s 568ms/step - loss: 0.6260 - accuracy: 0.7665 - val_loss: 1.0393 - val_accuracy: 0.6274\n",
            "Epoch 11/15\n",
            "102/102 [==============================] - 58s 566ms/step - loss: 0.5965 - accuracy: 0.7835 - val_loss: 1.0482 - val_accuracy: 0.6256\n",
            "Epoch 12/15\n",
            "102/102 [==============================] - 58s 564ms/step - loss: 0.5730 - accuracy: 0.7878 - val_loss: 1.0298 - val_accuracy: 0.6293\n",
            "Epoch 13/15\n",
            "102/102 [==============================] - 61s 598ms/step - loss: 0.5577 - accuracy: 0.7903 - val_loss: 0.9739 - val_accuracy: 0.6580\n",
            "Epoch 14/15\n",
            "102/102 [==============================] - 58s 568ms/step - loss: 0.5006 - accuracy: 0.8153 - val_loss: 1.0343 - val_accuracy: 0.6552\n",
            "Epoch 15/15\n",
            "102/102 [==============================] - 58s 568ms/step - loss: 0.4722 - accuracy: 0.8200 - val_loss: 1.0359 - val_accuracy: 0.6469\n"
          ]
        },
        {
          "data": {
            "text/plain": [
              "<keras.callbacks.History at 0x7f4ced86a310>"
            ]
          },
          "execution_count": 22,
          "metadata": {},
          "output_type": "execute_result"
        }
      ],
      "source": [
        "model.fit_generator(x_train,steps_per_epoch=len(x_train),validation_data=x_test,validation_steps=len(x_test),epochs=15)"
      ]
    },
    {
      "cell_type": "markdown",
      "source": [
        "#6.Saving the model"
      ],
      "metadata": {
        "id": "xP7_J8WQqRh7"
      }
    },
    {
      "cell_type": "code",
      "execution_count": 24,
      "metadata": {
        "id": "jGOvoW5VMy4I"
      },
      "outputs": [],
      "source": [
        "model.save('flowers.h5')"
      ]
    },
    {
      "cell_type": "markdown",
      "source": [
        "#7.Testing the model"
      ],
      "metadata": {
        "id": "A_XDZAlVqVjz"
      }
    },
    {
      "cell_type": "code",
      "source": [
        "import numpy as np\n",
        "from tensorflow.keras.models import load_model\n",
        "from tensorflow.keras.preprocessing import image"
      ],
      "metadata": {
        "id": "fIEKgeEFiN_0"
      },
      "execution_count": 25,
      "outputs": []
    },
    {
      "cell_type": "code",
      "source": [
        "model = load_model('flowers.h5')"
      ],
      "metadata": {
        "id": "UU3eN2B5m8LA"
      },
      "execution_count": 26,
      "outputs": []
    },
    {
      "cell_type": "code",
      "source": [
        "img = image.load_img('/content/drive/MyDrive/Flowers/flowers/daisy/2521408074_e6f86daf21_n.jpg',target_size=(100,100))\n",
        "img"
      ],
      "metadata": {
        "colab": {
          "base_uri": "https://localhost:8080/",
          "height": 117
        },
        "id": "WBByz9qZnA4e",
        "outputId": "9d721dda-53df-4d45-c846-5cd373a716b2"
      },
      "execution_count": 28,
      "outputs": [
        {
          "output_type": "execute_result",
          "data": {
            "text/plain": [
              "<PIL.Image.Image image mode=RGB size=100x100 at 0x7F4CEBFF32D0>"
            ],
            "image/png": "[encoded data removed]"
          },
          "metadata": {},
          "execution_count": 28
        }
      ]
    },
    {
      "cell_type": "code",
      "source": [
        "x = image.img_to_array(img)\n",
        "x"
      ],
      "metadata": {
        "colab": {
          "base_uri": "https://localhost:8080/"
        },
        "id": "-X1QRpKvnDhK",
        "outputId": "fb1b7e4b-6532-45c0-c3ed-6e4f84d2529e"
      },
      "execution_count": 29,
      "outputs": [
        {
          "output_type": "execute_result",
          "data": {
            "text/plain": [
              "array([[[ 8., 20.,  6.],\n",
              "        [11., 25., 12.],\n",
              "        [10., 26., 16.],\n",
              "        ...,\n",
              "        [38., 66., 77.],\n",
              "        [28., 48., 46.],\n",
              "        [17., 37., 28.]],\n",
              "\n",
              "       [[ 8., 20.,  8.],\n",
              "        [11., 25., 12.],\n",
              "        [12., 28., 18.],\n",
              "        ...,\n",
              "        [35., 63., 75.],\n",
              "        [27., 48., 49.],\n",
              "        [19., 38., 36.]],\n",
              "\n",
              "       [[ 7., 19.,  7.],\n",
              "        [ 9., 22., 12.],\n",
              "        [12., 29., 21.],\n",
              "        ...,\n",
              "        [33., 58., 63.],\n",
              "        [27., 49., 47.],\n",
              "        [23., 47., 47.]],\n",
              "\n",
              "       ...,\n",
              "\n",
              "       [[12., 27.,  6.],\n",
              "        [11., 26.,  7.],\n",
              "        [ 9., 22.,  5.],\n",
              "        ...,\n",
              "        [10., 28.,  6.],\n",
              "        [10., 25.,  6.],\n",
              "        [10., 25.,  6.]],\n",
              "\n",
              "       [[12., 25.,  7.],\n",
              "        [10., 23.,  6.],\n",
              "        [ 9., 19.,  8.],\n",
              "        ...,\n",
              "        [11., 29.,  5.],\n",
              "        [10., 25.,  6.],\n",
              "        [10., 25.,  6.]],\n",
              "\n",
              "       [[11., 22.,  6.],\n",
              "        [ 9., 20.,  6.],\n",
              "        [ 6., 16.,  8.],\n",
              "        ...,\n",
              "        [ 8., 26.,  4.],\n",
              "        [10., 23.,  5.],\n",
              "        [10., 23.,  5.]]], dtype=float32)"
            ]
          },
          "metadata": {},
          "execution_count": 29
        }
      ]
    },
    {
      "cell_type": "code",
      "source": [
        "x = np.expand_dims(x, axis=0)\n",
        "x"
      ],
      "metadata": {
        "colab": {
          "base_uri": "https://localhost:8080/"
        },
        "id": "vUi63ec9nKX6",
        "outputId": "682a7ed0-00b5-480b-835d-fd0b7ba9011f"
      },
      "execution_count": 30,
      "outputs": [
        {
          "output_type": "execute_result",
          "data": {
            "text/plain": [
              "array([[[[ 8., 20.,  6.],\n",
              "         [11., 25., 12.],\n",
              "         [10., 26., 16.],\n",
              "         ...,\n",
              "         [38., 66., 77.],\n",
              "         [28., 48., 46.],\n",
              "         [17., 37., 28.]],\n",
              "\n",
              "        [[ 8., 20.,  8.],\n",
              "         [11., 25., 12.],\n",
              "         [12., 28., 18.],\n",
              "         ...,\n",
              "         [35., 63., 75.],\n",
              "         [27., 48., 49.],\n",
              "         [19., 38., 36.]],\n",
              "\n",
              "        [[ 7., 19.,  7.],\n",
              "         [ 9., 22., 12.],\n",
              "         [12., 29., 21.],\n",
              "         ...,\n",
              "         [33., 58., 63.],\n",
              "         [27., 49., 47.],\n",
              "         [23., 47., 47.]],\n",
              "\n",
              "        ...,\n",
              "\n",
              "        [[12., 27.,  6.],\n",
              "         [11., 26.,  7.],\n",
              "         [ 9., 22.,  5.],\n",
              "         ...,\n",
              "         [10., 28.,  6.],\n",
              "         [10., 25.,  6.],\n",
              "         [10., 25.,  6.]],\n",
              "\n",
              "        [[12., 25.,  7.],\n",
              "         [10., 23.,  6.],\n",
              "         [ 9., 19.,  8.],\n",
              "         ...,\n",
              "         [11., 29.,  5.],\n",
              "         [10., 25.,  6.],\n",
              "         [10., 25.,  6.]],\n",
              "\n",
              "        [[11., 22.,  6.],\n",
              "         [ 9., 20.,  6.],\n",
              "         [ 6., 16.,  8.],\n",
              "         ...,\n",
              "         [ 8., 26.,  4.],\n",
              "         [10., 23.,  5.],\n",
              "         [10., 23.,  5.]]]], dtype=float32)"
            ]
          },
          "metadata": {},
          "execution_count": 30
        }
      ]
    },
    {
      "cell_type": "code",
      "source": [
        "y=np.argmax(model.predict(x),axis=1)\n",
        "y"
      ],
      "metadata": {
        "colab": {
          "base_uri": "https://localhost:8080/"
        },
        "id": "9pPkt3yanNSB",
        "outputId": "571ea623-f0b3-4143-c583-0ee129d1ec66"
      },
      "execution_count": 31,
      "outputs": [
        {
          "output_type": "stream",
          "name": "stdout",
          "text": [
            "1/1 [==============================] - 0s 175ms/step\n"
          ]
        },
        {
          "output_type": "execute_result",
          "data": {
            "text/plain": [
              "array([0])"
            ]
          },
          "metadata": {},
          "execution_count": 31
        }
      ]
    },
    {
      "cell_type": "code",
      "source": [
        "index = ['Daisy','Dandelion','Rose','Sunflower','Tulip']"
      ],
      "metadata": {
        "id": "_SFAvUVHnQrj"
      },
      "execution_count": 32,
      "outputs": []
    },
    {
      "cell_type": "code",
      "source": [
        "index[y[0]]"
      ],
      "metadata": {
        "colab": {
          "base_uri": "https://localhost:8080/",
          "height": 35
        },
        "id": "hg6Ex7GcnThT",
        "outputId": "5e3facf7-f65d-416a-9587-5e3a7a4087c7"
      },
      "execution_count": 33,
      "outputs": [
        {
          "output_type": "execute_result",
          "data": {
            "text/plain": [
              "'Daisy'"
            ],
            "application/vnd.google.colaboratory.intrinsic+json": {
              "type": "string"
            }
          },
          "metadata": {},
          "execution_count": 33
        }
      ]
    },
    {
      "cell_type": "code",
      "source": [
        "img = image.load_img('/content/drive/MyDrive/Flowers/flowers/dandelion/2495749544_679dc7ccef.jpg',target_size=(100,100))\n",
        "img"
      ],
      "metadata": {
        "colab": {
          "base_uri": "https://localhost:8080/",
          "height": 117
        },
        "id": "ZhubFkWfnVon",
        "outputId": "d457424b-c396-47a1-b187-965c54297342"
      },
      "execution_count": 35,
      "outputs": [
        {
          "output_type": "execute_result",
          "data": {
            "text/plain": [
              "<PIL.Image.Image image mode=RGB size=100x100 at 0x7F4CEC076110>"
            ],
            "image/png": "[encoded data removed]"
          },
          "metadata": {},
          "execution_count": 35
        }
      ]
    },
    {
      "cell_type": "code",
      "source": [
        "x = image.img_to_array(img)\n",
        "x = np.expand_dims(x, axis=0)\n",
        "x"
      ],
      "metadata": {
        "colab": {
          "base_uri": "https://localhost:8080/"
        },
        "id": "pTOIMPYcnYD1",
        "outputId": "63a89b0b-265f-413e-e950-a3d8b48cfd12"
      },
      "execution_count": 52,
      "outputs": [
        {
          "output_type": "execute_result",
          "data": {
            "text/plain": [
              "array([[[[ 0.,  0.,  0.],\n",
              "         [ 0.,  0.,  0.],\n",
              "         [ 0.,  0.,  0.],\n",
              "         ...,\n",
              "         [ 0.,  0.,  0.],\n",
              "         [ 0.,  0.,  0.],\n",
              "         [ 0.,  0.,  0.]],\n",
              "\n",
              "        [[ 0.,  0.,  0.],\n",
              "         [ 0.,  0.,  0.],\n",
              "         [ 0.,  0.,  0.],\n",
              "         ...,\n",
              "         [ 0.,  0.,  0.],\n",
              "         [ 0.,  0.,  0.],\n",
              "         [ 0.,  0.,  0.]],\n",
              "\n",
              "        [[ 0.,  0.,  0.],\n",
              "         [ 0.,  0.,  0.],\n",
              "         [ 0.,  0.,  0.],\n",
              "         ...,\n",
              "         [ 0.,  0.,  0.],\n",
              "         [ 0.,  0.,  0.],\n",
              "         [ 0.,  0.,  0.]],\n",
              "\n",
              "        ...,\n",
              "\n",
              "        [[ 0.,  0.,  0.],\n",
              "         [ 0.,  0.,  0.],\n",
              "         [ 0.,  0.,  0.],\n",
              "         ...,\n",
              "         [25., 25., 25.],\n",
              "         [21., 21., 21.],\n",
              "         [ 9.,  9.,  9.]],\n",
              "\n",
              "        [[ 0.,  0.,  0.],\n",
              "         [ 0.,  0.,  0.],\n",
              "         [ 0.,  0.,  0.],\n",
              "         ...,\n",
              "         [20., 20., 20.],\n",
              "         [20., 20., 20.],\n",
              "         [ 7.,  7.,  7.]],\n",
              "\n",
              "        [[ 0.,  0.,  0.],\n",
              "         [ 0.,  0.,  0.],\n",
              "         [ 0.,  0.,  0.],\n",
              "         ...,\n",
              "         [ 7.,  7.,  7.],\n",
              "         [ 4.,  4.,  4.],\n",
              "         [ 0.,  0.,  0.]]]], dtype=float32)"
            ]
          },
          "metadata": {},
          "execution_count": 52
        }
      ]
    },
    {
      "cell_type": "code",
      "source": [
        "y=np.argmax(model.predict(x),axis=1)\n",
        "y"
      ],
      "metadata": {
        "colab": {
          "base_uri": "https://localhost:8080/"
        },
        "id": "BBYHFRfrnkjA",
        "outputId": "4e0ffe94-46da-474e-8ea4-452c6534ba76"
      },
      "execution_count": 38,
      "outputs": [
        {
          "output_type": "stream",
          "name": "stdout",
          "text": [
            "1/1 [==============================] - 0s 35ms/step\n"
          ]
        },
        {
          "output_type": "execute_result",
          "data": {
            "text/plain": [
              "array([3])"
            ]
          },
          "metadata": {},
          "execution_count": 38
        }
      ]
    },
    {
      "cell_type": "code",
      "source": [
        "index[y[0]]"
      ],
      "metadata": {
        "colab": {
          "base_uri": "https://localhost:8080/",
          "height": 35
        },
        "id": "bIG0nHNQnrRv",
        "outputId": "658071c9-8ccc-4bdf-cc02-2be4946faab0"
      },
      "execution_count": 39,
      "outputs": [
        {
          "output_type": "execute_result",
          "data": {
            "text/plain": [
              "'Sunflower'"
            ],
            "application/vnd.google.colaboratory.intrinsic+json": {
              "type": "string"
            }
          },
          "metadata": {},
          "execution_count": 39
        }
      ]
    },
    {
      "cell_type": "code",
      "source": [
        "img = image.load_img('/content/drive/MyDrive/Flowers/flowers/rose/8050213579_48e1e7109f.jpg',target_size=(100,100))\n",
        "img"
      ],
      "metadata": {
        "colab": {
          "base_uri": "https://localhost:8080/",
          "height": 117
        },
        "id": "SCvpQUG5nuw5",
        "outputId": "d081bfad-64bd-440c-b82c-b239fae42265"
      },
      "execution_count": 40,
      "outputs": [
        {
          "output_type": "execute_result",
          "data": {
            "text/plain": [
              "<PIL.Image.Image image mode=RGB size=100x100 at 0x7F4CEC0858D0>"
            ],
            "image/png": "[encoded data removed]"
          },
          "metadata": {},
          "execution_count": 40
        }
      ]
    },
    {
      "cell_type": "code",
      "source": [
        "x = image.img_to_array(img)\n",
        "x = np.expand_dims(x, axis=0)\n",
        "x"
      ],
      "metadata": {
        "colab": {
          "base_uri": "https://localhost:8080/"
        },
        "id": "zhAaM9ItnzDD",
        "outputId": "800bcdd9-8ad5-4ae3-8e31-6ba5bd7517ef"
      },
      "execution_count": 53,
      "outputs": [
        {
          "output_type": "execute_result",
          "data": {
            "text/plain": [
              "array([[[[ 0.,  0.,  0.],\n",
              "         [ 0.,  0.,  0.],\n",
              "         [ 0.,  0.,  0.],\n",
              "         ...,\n",
              "         [ 0.,  0.,  0.],\n",
              "         [ 0.,  0.,  0.],\n",
              "         [ 0.,  0.,  0.]],\n",
              "\n",
              "        [[ 0.,  0.,  0.],\n",
              "         [ 0.,  0.,  0.],\n",
              "         [ 0.,  0.,  0.],\n",
              "         ...,\n",
              "         [ 0.,  0.,  0.],\n",
              "         [ 0.,  0.,  0.],\n",
              "         [ 0.,  0.,  0.]],\n",
              "\n",
              "        [[ 0.,  0.,  0.],\n",
              "         [ 0.,  0.,  0.],\n",
              "         [ 0.,  0.,  0.],\n",
              "         ...,\n",
              "         [ 0.,  0.,  0.],\n",
              "         [ 0.,  0.,  0.],\n",
              "         [ 0.,  0.,  0.]],\n",
              "\n",
              "        ...,\n",
              "\n",
              "        [[ 0.,  0.,  0.],\n",
              "         [ 0.,  0.,  0.],\n",
              "         [ 0.,  0.,  0.],\n",
              "         ...,\n",
              "         [25., 25., 25.],\n",
              "         [21., 21., 21.],\n",
              "         [ 9.,  9.,  9.]],\n",
              "\n",
              "        [[ 0.,  0.,  0.],\n",
              "         [ 0.,  0.,  0.],\n",
              "         [ 0.,  0.,  0.],\n",
              "         ...,\n",
              "         [20., 20., 20.],\n",
              "         [20., 20., 20.],\n",
              "         [ 7.,  7.,  7.]],\n",
              "\n",
              "        [[ 0.,  0.,  0.],\n",
              "         [ 0.,  0.,  0.],\n",
              "         [ 0.,  0.,  0.],\n",
              "         ...,\n",
              "         [ 7.,  7.,  7.],\n",
              "         [ 4.,  4.,  4.],\n",
              "         [ 0.,  0.,  0.]]]], dtype=float32)"
            ]
          },
          "metadata": {},
          "execution_count": 53
        }
      ]
    },
    {
      "cell_type": "code",
      "source": [
        "y=np.argmax(model.predict(x),axis=1)\n",
        "y"
      ],
      "metadata": {
        "colab": {
          "base_uri": "https://localhost:8080/"
        },
        "id": "5Q93qe1mn04A",
        "outputId": "a88e7a50-6285-4d34-ab2c-b42d0b44b735"
      },
      "execution_count": 42,
      "outputs": [
        {
          "output_type": "stream",
          "name": "stdout",
          "text": [
            "1/1 [==============================] - 0s 31ms/step\n"
          ]
        },
        {
          "output_type": "execute_result",
          "data": {
            "text/plain": [
              "array([2])"
            ]
          },
          "metadata": {},
          "execution_count": 42
        }
      ]
    },
    {
      "cell_type": "code",
      "source": [
        "index[y[0]]"
      ],
      "metadata": {
        "colab": {
          "base_uri": "https://localhost:8080/",
          "height": 35
        },
        "id": "Fi9O_XPZn2gq",
        "outputId": "c93ab64c-07af-4a35-a547-33b5d98751ea"
      },
      "execution_count": 43,
      "outputs": [
        {
          "output_type": "execute_result",
          "data": {
            "text/plain": [
              "'Rose'"
            ],
            "application/vnd.google.colaboratory.intrinsic+json": {
              "type": "string"
            }
          },
          "metadata": {},
          "execution_count": 43
        }
      ]
    },
    {
      "cell_type": "code",
      "source": [
        "img = image.load_img('/content/drive/MyDrive/Flowers/flowers/sunflower/5933438337_b26a81ea81_n.jpg',target_size=(100,100))\n",
        "img"
      ],
      "metadata": {
        "colab": {
          "base_uri": "https://localhost:8080/",
          "height": 117
        },
        "id": "pVyltnaXn4Vc",
        "outputId": "4197ef34-a963-4605-c2a1-a266f366fbae"
      },
      "execution_count": 44,
      "outputs": [
        {
          "output_type": "execute_result",
          "data": {
            "text/plain": [
              "<PIL.Image.Image image mode=RGB size=100x100 at 0x7F4CEBF00350>"
            ],
            "image/png": "[encoded data removed]"
          },
          "metadata": {},
          "execution_count": 44
        }
      ]
    },
    {
      "cell_type": "code",
      "source": [
        "x = image.img_to_array(img)\n",
        "x = np.expand_dims(x, axis=0)\n",
        "x"
      ],
      "metadata": {
        "colab": {
          "base_uri": "https://localhost:8080/"
        },
        "id": "X2P3MZ8Nn7U-",
        "outputId": "05a4b329-3085-4e4f-9085-fcd9bf78bb19"
      },
      "execution_count": 54,
      "outputs": [
        {
          "output_type": "execute_result",
          "data": {
            "text/plain": [
              "array([[[[ 0.,  0.,  0.],\n",
              "         [ 0.,  0.,  0.],\n",
              "         [ 0.,  0.,  0.],\n",
              "         ...,\n",
              "         [ 0.,  0.,  0.],\n",
              "         [ 0.,  0.,  0.],\n",
              "         [ 0.,  0.,  0.]],\n",
              "\n",
              "        [[ 0.,  0.,  0.],\n",
              "         [ 0.,  0.,  0.],\n",
              "         [ 0.,  0.,  0.],\n",
              "         ...,\n",
              "         [ 0.,  0.,  0.],\n",
              "         [ 0.,  0.,  0.],\n",
              "         [ 0.,  0.,  0.]],\n",
              "\n",
              "        [[ 0.,  0.,  0.],\n",
              "         [ 0.,  0.,  0.],\n",
              "         [ 0.,  0.,  0.],\n",
              "         ...,\n",
              "         [ 0.,  0.,  0.],\n",
              "         [ 0.,  0.,  0.],\n",
              "         [ 0.,  0.,  0.]],\n",
              "\n",
              "        ...,\n",
              "\n",
              "        [[ 0.,  0.,  0.],\n",
              "         [ 0.,  0.,  0.],\n",
              "         [ 0.,  0.,  0.],\n",
              "         ...,\n",
              "         [25., 25., 25.],\n",
              "         [21., 21., 21.],\n",
              "         [ 9.,  9.,  9.]],\n",
              "\n",
              "        [[ 0.,  0.,  0.],\n",
              "         [ 0.,  0.,  0.],\n",
              "         [ 0.,  0.,  0.],\n",
              "         ...,\n",
              "         [20., 20., 20.],\n",
              "         [20., 20., 20.],\n",
              "         [ 7.,  7.,  7.]],\n",
              "\n",
              "        [[ 0.,  0.,  0.],\n",
              "         [ 0.,  0.,  0.],\n",
              "         [ 0.,  0.,  0.],\n",
              "         ...,\n",
              "         [ 7.,  7.,  7.],\n",
              "         [ 4.,  4.,  4.],\n",
              "         [ 0.,  0.,  0.]]]], dtype=float32)"
            ]
          },
          "metadata": {},
          "execution_count": 54
        }
      ]
    },
    {
      "cell_type": "code",
      "source": [
        "y=np.argmax(model.predict(x),axis=1)\n",
        "y"
      ],
      "metadata": {
        "colab": {
          "base_uri": "https://localhost:8080/"
        },
        "id": "3GXPiXB4n9J1",
        "outputId": "a79fce37-0a91-4ece-b21e-658310846069"
      },
      "execution_count": 46,
      "outputs": [
        {
          "output_type": "stream",
          "name": "stdout",
          "text": [
            "1/1 [==============================] - 0s 31ms/step\n"
          ]
        },
        {
          "output_type": "execute_result",
          "data": {
            "text/plain": [
              "array([3])"
            ]
          },
          "metadata": {},
          "execution_count": 46
        }
      ]
    },
    {
      "cell_type": "code",
      "source": [
        "index[y[0]]"
      ],
      "metadata": {
        "colab": {
          "base_uri": "https://localhost:8080/",
          "height": 35
        },
        "id": "54EWrELgn_AD",
        "outputId": "30e0a0bb-70af-4593-fc7a-a5aa132c8fb3"
      },
      "execution_count": 47,
      "outputs": [
        {
          "output_type": "execute_result",
          "data": {
            "text/plain": [
              "'Sunflower'"
            ],
            "application/vnd.google.colaboratory.intrinsic+json": {
              "type": "string"
            }
          },
          "metadata": {},
          "execution_count": 47
        }
      ]
    },
    {
      "cell_type": "code",
      "source": [
        "img = image.load_img('/content/drive/MyDrive/Flowers/flowers/tulip/2785458179_9130812eef_m.jpg',target_size=(100,100))\n",
        "img"
      ],
      "metadata": {
        "colab": {
          "base_uri": "https://localhost:8080/",
          "height": 117
        },
        "id": "PHARfi0voAsQ",
        "outputId": "1bd5e48f-11d3-4258-cc64-e514ac15b9ec"
      },
      "execution_count": 48,
      "outputs": [
        {
          "output_type": "execute_result",
          "data": {
            "text/plain": [
              "<PIL.Image.Image image mode=RGB size=100x100 at 0x7F4CEBF08C90>"
            ],
            "image/png": "[encoded data removed]"
          },
          "metadata": {},
          "execution_count": 48
        }
      ]
    },
    {
      "cell_type": "code",
      "source": [
        "x = image.img_to_array(img)\n",
        "x = np.expand_dims(x, axis=0)\n",
        "x"
      ],
      "metadata": {
        "colab": {
          "base_uri": "https://localhost:8080/"
        },
        "id": "6TX-OSh1oEuE",
        "outputId": "71863951-67e1-4b41-c089-c058a4f267a5"
      },
      "execution_count": 55,
      "outputs": [
        {
          "output_type": "execute_result",
          "data": {
            "text/plain": [
              "array([[[[ 0.,  0.,  0.],\n",
              "         [ 0.,  0.,  0.],\n",
              "         [ 0.,  0.,  0.],\n",
              "         ...,\n",
              "         [ 0.,  0.,  0.],\n",
              "         [ 0.,  0.,  0.],\n",
              "         [ 0.,  0.,  0.]],\n",
              "\n",
              "        [[ 0.,  0.,  0.],\n",
              "         [ 0.,  0.,  0.],\n",
              "         [ 0.,  0.,  0.],\n",
              "         ...,\n",
              "         [ 0.,  0.,  0.],\n",
              "         [ 0.,  0.,  0.],\n",
              "         [ 0.,  0.,  0.]],\n",
              "\n",
              "        [[ 0.,  0.,  0.],\n",
              "         [ 0.,  0.,  0.],\n",
              "         [ 0.,  0.,  0.],\n",
              "         ...,\n",
              "         [ 0.,  0.,  0.],\n",
              "         [ 0.,  0.,  0.],\n",
              "         [ 0.,  0.,  0.]],\n",
              "\n",
              "        ...,\n",
              "\n",
              "        [[ 0.,  0.,  0.],\n",
              "         [ 0.,  0.,  0.],\n",
              "         [ 0.,  0.,  0.],\n",
              "         ...,\n",
              "         [25., 25., 25.],\n",
              "         [21., 21., 21.],\n",
              "         [ 9.,  9.,  9.]],\n",
              "\n",
              "        [[ 0.,  0.,  0.],\n",
              "         [ 0.,  0.,  0.],\n",
              "         [ 0.,  0.,  0.],\n",
              "         ...,\n",
              "         [20., 20., 20.],\n",
              "         [20., 20., 20.],\n",
              "         [ 7.,  7.,  7.]],\n",
              "\n",
              "        [[ 0.,  0.,  0.],\n",
              "         [ 0.,  0.,  0.],\n",
              "         [ 0.,  0.,  0.],\n",
              "         ...,\n",
              "         [ 7.,  7.,  7.],\n",
              "         [ 4.,  4.,  4.],\n",
              "         [ 0.,  0.,  0.]]]], dtype=float32)"
            ]
          },
          "metadata": {},
          "execution_count": 55
        }
      ]
    },
    {
      "cell_type": "code",
      "source": [
        "y=np.argmax(model.predict(x),axis=1)\n",
        "y"
      ],
      "metadata": {
        "colab": {
          "base_uri": "https://localhost:8080/"
        },
        "id": "vNBlsF20oGib",
        "outputId": "db34425d-1fd2-4c3b-d340-5b943eab0c53"
      },
      "execution_count": 50,
      "outputs": [
        {
          "output_type": "stream",
          "name": "stdout",
          "text": [
            "1/1 [==============================] - 0s 35ms/step\n"
          ]
        },
        {
          "output_type": "execute_result",
          "data": {
            "text/plain": [
              "array([4])"
            ]
          },
          "metadata": {},
          "execution_count": 50
        }
      ]
    },
    {
      "cell_type": "code",
      "source": [
        "index[y[0]]"
      ],
      "metadata": {
        "colab": {
          "base_uri": "https://localhost:8080/",
          "height": 35
        },
        "id": "HsqMj_V2oI_4",
        "outputId": "520d0989-3128-482a-d7c7-1e77384da99c"
      },
      "execution_count": 51,
      "outputs": [
        {
          "output_type": "execute_result",
          "data": {
            "text/plain": [
              "'Tulip'"
            ],
            "application/vnd.google.colaboratory.intrinsic+json": {
              "type": "string"
            }
          },
          "metadata": {},
          "execution_count": 51
        }
      ]
    }
  ],
  "metadata": {
    "colab": {
      "provenance": []
    },
    "kernelspec": {
      "display_name": "Python 3",
      "name": "python3"
    },
    "language_info": {
      "name": "python"
    }
  },
  "nbformat": 4,
  "nbformat_minor": 0
}